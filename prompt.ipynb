{
  "cells": [
    {
      "cell_type": "markdown",
      "metadata": {
        "id": "CcUT6Fon_qRE"
      },
      "source": [
        "### Required Assignment 5.1: Will the Customer Accept the Coupon?\n",
        "\n",
        "**Context**\n",
        "\n",
        "Imagine driving through town and a coupon is delivered to your cell phone for a restaurant near where you are driving. Would you accept that coupon and take a short detour to the restaurant? Would you accept the coupon but use it on a subsequent trip? Would you ignore the coupon entirely? What if the coupon was for a bar instead of a restaurant? What about a coffee house? Would you accept a bar coupon with a minor passenger in the car? What about if it was just you and your partner in the car? Would weather impact the rate of acceptance? What about the time of day?\n",
        "\n",
        "Obviously, proximity to the business is a factor on whether the coupon is delivered to the driver or not, but what are the factors that determine whether a driver accepts the coupon once it is delivered to them? How would you determine whether a driver is likely to accept a coupon?\n",
        "\n",
        "**Overview**\n",
        "\n",
        "The goal of this project is to use what you know about visualizations and probability distributions to distinguish between customers who accepted a driving coupon versus those that did not.\n",
        "\n",
        "**Data**\n",
        "\n",
        "This data comes to us from the UCI Machine Learning repository and was collected via a survey on Amazon Mechanical Turk. The survey describes different driving scenarios including the destination, current time, weather, passenger, etc., and then ask the person whether he will accept the coupon if he is the driver. Answers that the user will drive there ‘right away’ or ‘later before the coupon expires’ are labeled as ‘Y = 1’ and answers ‘no, I do not want the coupon’ are labeled as ‘Y = 0’.  There are five different types of coupons -- less expensive restaurants (under \\$20), coffee houses, carry out & take away, bar, and more expensive restaurants (\\$20 - $50)."
      ]
    },
    {
      "cell_type": "markdown",
      "metadata": {
        "id": "1wORvMBJ_qRF"
      },
      "source": [
        "**Deliverables**\n",
        "\n",
        "Your final product should be a brief report that highlights the differences between customers who did and did not accept the coupons.  To explore the data you will utilize your knowledge of plotting, statistical summaries, and visualization using Python. You will publish your findings in a public facing github repository as your first portfolio piece.\n",
        "\n",
        "\n",
        "\n"
      ]
    },
    {
      "cell_type": "markdown",
      "metadata": {
        "id": "pG6_Ym6q_qRG"
      },
      "source": [
        "### Data Description\n",
        "Keep in mind that these values mentioned below are average values.\n",
        "\n",
        "The attributes of this data set include:\n",
        "1. User attributes\n",
        "    -  Gender: male, female\n",
        "    -  Age: below 21, 21 to 25, 26 to 30, etc.\n",
        "    -  Marital Status: single, married partner, unmarried partner, or widowed\n",
        "    -  Number of children: 0, 1, or more than 1\n",
        "    -  Education: high school, bachelors degree, associates degree, or graduate degree\n",
        "    -  Occupation: architecture & engineering, business & financial, etc.\n",
        "    -  Annual income: less than \\\\$12500, \\\\$12500 - \\\\$24999, \\\\$25000 - \\\\$37499, etc.\n",
        "    -  Number of times that he/she goes to a bar: 0, less than 1, 1 to 3, 4 to 8 or greater than 8\n",
        "    -  Number of times that he/she buys takeaway food: 0, less than 1, 1 to 3, 4 to 8 or greater\n",
        "    than 8\n",
        "    -  Number of times that he/she goes to a coffee house: 0, less than 1, 1 to 3, 4 to 8 or\n",
        "    greater than 8\n",
        "    -  Number of times that he/she eats at a restaurant with average expense less than \\\\$20 per\n",
        "    person: 0, less than 1, 1 to 3, 4 to 8 or greater than 8\n",
        "    -  Number of times that he/she goes to a bar: 0, less than 1, 1 to 3, 4 to 8 or greater than 8\n",
        "    \n",
        "\n",
        "2. Contextual attributes\n",
        "    - Driving destination: home, work, or no urgent destination\n",
        "    - Location of user, coupon and destination: we provide a map to show the geographical\n",
        "    location of the user, destination, and the venue, and we mark the distance between each\n",
        "    two places with time of driving. The user can see whether the venue is in the same\n",
        "    direction as the destination.\n",
        "    - Weather: sunny, rainy, or snowy\n",
        "    - Temperature: 30F, 55F, or 80F\n",
        "    - Time: 10AM, 2PM, or 6PM\n",
        "    - Passenger: alone, partner, kid(s), or friend(s)\n",
        "\n",
        "\n",
        "3. Coupon attributes\n",
        "    - time before it expires: 2 hours or one day"
      ]
    },
    {
      "cell_type": "code",
      "execution_count": 31,
      "metadata": {
        "id": "dzNoP3o__qRG"
      },
      "outputs": [],
      "source": [
        "import matplotlib.pyplot as plt\n",
        "import seaborn as sns\n",
        "import pandas as pd\n",
        "import numpy as np"
      ]
    },
    {
      "cell_type": "markdown",
      "metadata": {
        "id": "Ct8pI1uE_qRG"
      },
      "source": [
        "### Problems\n",
        "\n",
        "Use the prompts below to get started with your data analysis.  \n",
        "\n",
        "1. Read in the `coupons.csv` file.\n",
        "\n",
        "\n"
      ]
    },
    {
      "cell_type": "code",
      "execution_count": 51,
      "metadata": {
        "id": "X0vbffYg_qRH"
      },
      "outputs": [],
      "source": [
        "data = pd.read_csv('data/coupons.csv')"
      ]
    },
    {
      "cell_type": "code",
      "execution_count": 4,
      "metadata": {
        "id": "TXofQ_DF_qRH",
        "outputId": "cfdfc681-8eb5-4d17-968b-0a7343e1b4dd",
        "colab": {
          "base_uri": "https://localhost:8080/",
          "height": 342
        }
      },
      "outputs": [
        {
          "output_type": "execute_result",
          "data": {
            "text/plain": [
              "       destination  passanger weather  temperature  time  \\\n",
              "0  No Urgent Place      Alone   Sunny           55   2PM   \n",
              "1  No Urgent Place  Friend(s)   Sunny           80  10AM   \n",
              "2  No Urgent Place  Friend(s)   Sunny           80  10AM   \n",
              "3  No Urgent Place  Friend(s)   Sunny           80   2PM   \n",
              "4  No Urgent Place  Friend(s)   Sunny           80   2PM   \n",
              "\n",
              "                  coupon expiration  gender age      maritalStatus  ...  \\\n",
              "0        Restaurant(<20)         1d  Female  21  Unmarried partner  ...   \n",
              "1           Coffee House         2h  Female  21  Unmarried partner  ...   \n",
              "2  Carry out & Take away         2h  Female  21  Unmarried partner  ...   \n",
              "3           Coffee House         2h  Female  21  Unmarried partner  ...   \n",
              "4           Coffee House         1d  Female  21  Unmarried partner  ...   \n",
              "\n",
              "   CoffeeHouse CarryAway RestaurantLessThan20 Restaurant20To50  \\\n",
              "0        never       NaN                  4~8              1~3   \n",
              "1        never       NaN                  4~8              1~3   \n",
              "2        never       NaN                  4~8              1~3   \n",
              "3        never       NaN                  4~8              1~3   \n",
              "4        never       NaN                  4~8              1~3   \n",
              "\n",
              "  toCoupon_GEQ5min toCoupon_GEQ15min toCoupon_GEQ25min direction_same  \\\n",
              "0                1                 0                 0              0   \n",
              "1                1                 0                 0              0   \n",
              "2                1                 1                 0              0   \n",
              "3                1                 1                 0              0   \n",
              "4                1                 1                 0              0   \n",
              "\n",
              "  direction_opp  Y  \n",
              "0             1  1  \n",
              "1             1  0  \n",
              "2             1  1  \n",
              "3             1  0  \n",
              "4             1  0  \n",
              "\n",
              "[5 rows x 26 columns]"
            ],
            "text/html": [
              "\n",
              "  <div id=\"df-31168fea-9a07-4764-8bb6-cf36b081354e\" class=\"colab-df-container\">\n",
              "    <div>\n",
              "<style scoped>\n",
              "    .dataframe tbody tr th:only-of-type {\n",
              "        vertical-align: middle;\n",
              "    }\n",
              "\n",
              "    .dataframe tbody tr th {\n",
              "        vertical-align: top;\n",
              "    }\n",
              "\n",
              "    .dataframe thead th {\n",
              "        text-align: right;\n",
              "    }\n",
              "</style>\n",
              "<table border=\"1\" class=\"dataframe\">\n",
              "  <thead>\n",
              "    <tr style=\"text-align: right;\">\n",
              "      <th></th>\n",
              "      <th>destination</th>\n",
              "      <th>passanger</th>\n",
              "      <th>weather</th>\n",
              "      <th>temperature</th>\n",
              "      <th>time</th>\n",
              "      <th>coupon</th>\n",
              "      <th>expiration</th>\n",
              "      <th>gender</th>\n",
              "      <th>age</th>\n",
              "      <th>maritalStatus</th>\n",
              "      <th>...</th>\n",
              "      <th>CoffeeHouse</th>\n",
              "      <th>CarryAway</th>\n",
              "      <th>RestaurantLessThan20</th>\n",
              "      <th>Restaurant20To50</th>\n",
              "      <th>toCoupon_GEQ5min</th>\n",
              "      <th>toCoupon_GEQ15min</th>\n",
              "      <th>toCoupon_GEQ25min</th>\n",
              "      <th>direction_same</th>\n",
              "      <th>direction_opp</th>\n",
              "      <th>Y</th>\n",
              "    </tr>\n",
              "  </thead>\n",
              "  <tbody>\n",
              "    <tr>\n",
              "      <th>0</th>\n",
              "      <td>No Urgent Place</td>\n",
              "      <td>Alone</td>\n",
              "      <td>Sunny</td>\n",
              "      <td>55</td>\n",
              "      <td>2PM</td>\n",
              "      <td>Restaurant(&lt;20)</td>\n",
              "      <td>1d</td>\n",
              "      <td>Female</td>\n",
              "      <td>21</td>\n",
              "      <td>Unmarried partner</td>\n",
              "      <td>...</td>\n",
              "      <td>never</td>\n",
              "      <td>NaN</td>\n",
              "      <td>4~8</td>\n",
              "      <td>1~3</td>\n",
              "      <td>1</td>\n",
              "      <td>0</td>\n",
              "      <td>0</td>\n",
              "      <td>0</td>\n",
              "      <td>1</td>\n",
              "      <td>1</td>\n",
              "    </tr>\n",
              "    <tr>\n",
              "      <th>1</th>\n",
              "      <td>No Urgent Place</td>\n",
              "      <td>Friend(s)</td>\n",
              "      <td>Sunny</td>\n",
              "      <td>80</td>\n",
              "      <td>10AM</td>\n",
              "      <td>Coffee House</td>\n",
              "      <td>2h</td>\n",
              "      <td>Female</td>\n",
              "      <td>21</td>\n",
              "      <td>Unmarried partner</td>\n",
              "      <td>...</td>\n",
              "      <td>never</td>\n",
              "      <td>NaN</td>\n",
              "      <td>4~8</td>\n",
              "      <td>1~3</td>\n",
              "      <td>1</td>\n",
              "      <td>0</td>\n",
              "      <td>0</td>\n",
              "      <td>0</td>\n",
              "      <td>1</td>\n",
              "      <td>0</td>\n",
              "    </tr>\n",
              "    <tr>\n",
              "      <th>2</th>\n",
              "      <td>No Urgent Place</td>\n",
              "      <td>Friend(s)</td>\n",
              "      <td>Sunny</td>\n",
              "      <td>80</td>\n",
              "      <td>10AM</td>\n",
              "      <td>Carry out &amp; Take away</td>\n",
              "      <td>2h</td>\n",
              "      <td>Female</td>\n",
              "      <td>21</td>\n",
              "      <td>Unmarried partner</td>\n",
              "      <td>...</td>\n",
              "      <td>never</td>\n",
              "      <td>NaN</td>\n",
              "      <td>4~8</td>\n",
              "      <td>1~3</td>\n",
              "      <td>1</td>\n",
              "      <td>1</td>\n",
              "      <td>0</td>\n",
              "      <td>0</td>\n",
              "      <td>1</td>\n",
              "      <td>1</td>\n",
              "    </tr>\n",
              "    <tr>\n",
              "      <th>3</th>\n",
              "      <td>No Urgent Place</td>\n",
              "      <td>Friend(s)</td>\n",
              "      <td>Sunny</td>\n",
              "      <td>80</td>\n",
              "      <td>2PM</td>\n",
              "      <td>Coffee House</td>\n",
              "      <td>2h</td>\n",
              "      <td>Female</td>\n",
              "      <td>21</td>\n",
              "      <td>Unmarried partner</td>\n",
              "      <td>...</td>\n",
              "      <td>never</td>\n",
              "      <td>NaN</td>\n",
              "      <td>4~8</td>\n",
              "      <td>1~3</td>\n",
              "      <td>1</td>\n",
              "      <td>1</td>\n",
              "      <td>0</td>\n",
              "      <td>0</td>\n",
              "      <td>1</td>\n",
              "      <td>0</td>\n",
              "    </tr>\n",
              "    <tr>\n",
              "      <th>4</th>\n",
              "      <td>No Urgent Place</td>\n",
              "      <td>Friend(s)</td>\n",
              "      <td>Sunny</td>\n",
              "      <td>80</td>\n",
              "      <td>2PM</td>\n",
              "      <td>Coffee House</td>\n",
              "      <td>1d</td>\n",
              "      <td>Female</td>\n",
              "      <td>21</td>\n",
              "      <td>Unmarried partner</td>\n",
              "      <td>...</td>\n",
              "      <td>never</td>\n",
              "      <td>NaN</td>\n",
              "      <td>4~8</td>\n",
              "      <td>1~3</td>\n",
              "      <td>1</td>\n",
              "      <td>1</td>\n",
              "      <td>0</td>\n",
              "      <td>0</td>\n",
              "      <td>1</td>\n",
              "      <td>0</td>\n",
              "    </tr>\n",
              "  </tbody>\n",
              "</table>\n",
              "<p>5 rows × 26 columns</p>\n",
              "</div>\n",
              "    <div class=\"colab-df-buttons\">\n",
              "\n",
              "  <div class=\"colab-df-container\">\n",
              "    <button class=\"colab-df-convert\" onclick=\"convertToInteractive('df-31168fea-9a07-4764-8bb6-cf36b081354e')\"\n",
              "            title=\"Convert this dataframe to an interactive table.\"\n",
              "            style=\"display:none;\">\n",
              "\n",
              "  <svg xmlns=\"http://www.w3.org/2000/svg\" height=\"24px\" viewBox=\"0 -960 960 960\">\n",
              "    <path d=\"M120-120v-720h720v720H120Zm60-500h600v-160H180v160Zm220 220h160v-160H400v160Zm0 220h160v-160H400v160ZM180-400h160v-160H180v160Zm440 0h160v-160H620v160ZM180-180h160v-160H180v160Zm440 0h160v-160H620v160Z\"/>\n",
              "  </svg>\n",
              "    </button>\n",
              "\n",
              "  <style>\n",
              "    .colab-df-container {\n",
              "      display:flex;\n",
              "      gap: 12px;\n",
              "    }\n",
              "\n",
              "    .colab-df-convert {\n",
              "      background-color: #E8F0FE;\n",
              "      border: none;\n",
              "      border-radius: 50%;\n",
              "      cursor: pointer;\n",
              "      display: none;\n",
              "      fill: #1967D2;\n",
              "      height: 32px;\n",
              "      padding: 0 0 0 0;\n",
              "      width: 32px;\n",
              "    }\n",
              "\n",
              "    .colab-df-convert:hover {\n",
              "      background-color: #E2EBFA;\n",
              "      box-shadow: 0px 1px 2px rgba(60, 64, 67, 0.3), 0px 1px 3px 1px rgba(60, 64, 67, 0.15);\n",
              "      fill: #174EA6;\n",
              "    }\n",
              "\n",
              "    .colab-df-buttons div {\n",
              "      margin-bottom: 4px;\n",
              "    }\n",
              "\n",
              "    [theme=dark] .colab-df-convert {\n",
              "      background-color: #3B4455;\n",
              "      fill: #D2E3FC;\n",
              "    }\n",
              "\n",
              "    [theme=dark] .colab-df-convert:hover {\n",
              "      background-color: #434B5C;\n",
              "      box-shadow: 0px 1px 3px 1px rgba(0, 0, 0, 0.15);\n",
              "      filter: drop-shadow(0px 1px 2px rgba(0, 0, 0, 0.3));\n",
              "      fill: #FFFFFF;\n",
              "    }\n",
              "  </style>\n",
              "\n",
              "    <script>\n",
              "      const buttonEl =\n",
              "        document.querySelector('#df-31168fea-9a07-4764-8bb6-cf36b081354e button.colab-df-convert');\n",
              "      buttonEl.style.display =\n",
              "        google.colab.kernel.accessAllowed ? 'block' : 'none';\n",
              "\n",
              "      async function convertToInteractive(key) {\n",
              "        const element = document.querySelector('#df-31168fea-9a07-4764-8bb6-cf36b081354e');\n",
              "        const dataTable =\n",
              "          await google.colab.kernel.invokeFunction('convertToInteractive',\n",
              "                                                    [key], {});\n",
              "        if (!dataTable) return;\n",
              "\n",
              "        const docLinkHtml = 'Like what you see? Visit the ' +\n",
              "          '<a target=\"_blank\" href=https://colab.research.google.com/notebooks/data_table.ipynb>data table notebook</a>'\n",
              "          + ' to learn more about interactive tables.';\n",
              "        element.innerHTML = '';\n",
              "        dataTable['output_type'] = 'display_data';\n",
              "        await google.colab.output.renderOutput(dataTable, element);\n",
              "        const docLink = document.createElement('div');\n",
              "        docLink.innerHTML = docLinkHtml;\n",
              "        element.appendChild(docLink);\n",
              "      }\n",
              "    </script>\n",
              "  </div>\n",
              "\n",
              "\n",
              "<div id=\"df-a18d75bc-3127-44ed-9772-c3c523573f02\">\n",
              "  <button class=\"colab-df-quickchart\" onclick=\"quickchart('df-a18d75bc-3127-44ed-9772-c3c523573f02')\"\n",
              "            title=\"Suggest charts\"\n",
              "            style=\"display:none;\">\n",
              "\n",
              "<svg xmlns=\"http://www.w3.org/2000/svg\" height=\"24px\"viewBox=\"0 0 24 24\"\n",
              "     width=\"24px\">\n",
              "    <g>\n",
              "        <path d=\"M19 3H5c-1.1 0-2 .9-2 2v14c0 1.1.9 2 2 2h14c1.1 0 2-.9 2-2V5c0-1.1-.9-2-2-2zM9 17H7v-7h2v7zm4 0h-2V7h2v10zm4 0h-2v-4h2v4z\"/>\n",
              "    </g>\n",
              "</svg>\n",
              "  </button>\n",
              "\n",
              "<style>\n",
              "  .colab-df-quickchart {\n",
              "      --bg-color: #E8F0FE;\n",
              "      --fill-color: #1967D2;\n",
              "      --hover-bg-color: #E2EBFA;\n",
              "      --hover-fill-color: #174EA6;\n",
              "      --disabled-fill-color: #AAA;\n",
              "      --disabled-bg-color: #DDD;\n",
              "  }\n",
              "\n",
              "  [theme=dark] .colab-df-quickchart {\n",
              "      --bg-color: #3B4455;\n",
              "      --fill-color: #D2E3FC;\n",
              "      --hover-bg-color: #434B5C;\n",
              "      --hover-fill-color: #FFFFFF;\n",
              "      --disabled-bg-color: #3B4455;\n",
              "      --disabled-fill-color: #666;\n",
              "  }\n",
              "\n",
              "  .colab-df-quickchart {\n",
              "    background-color: var(--bg-color);\n",
              "    border: none;\n",
              "    border-radius: 50%;\n",
              "    cursor: pointer;\n",
              "    display: none;\n",
              "    fill: var(--fill-color);\n",
              "    height: 32px;\n",
              "    padding: 0;\n",
              "    width: 32px;\n",
              "  }\n",
              "\n",
              "  .colab-df-quickchart:hover {\n",
              "    background-color: var(--hover-bg-color);\n",
              "    box-shadow: 0 1px 2px rgba(60, 64, 67, 0.3), 0 1px 3px 1px rgba(60, 64, 67, 0.15);\n",
              "    fill: var(--button-hover-fill-color);\n",
              "  }\n",
              "\n",
              "  .colab-df-quickchart-complete:disabled,\n",
              "  .colab-df-quickchart-complete:disabled:hover {\n",
              "    background-color: var(--disabled-bg-color);\n",
              "    fill: var(--disabled-fill-color);\n",
              "    box-shadow: none;\n",
              "  }\n",
              "\n",
              "  .colab-df-spinner {\n",
              "    border: 2px solid var(--fill-color);\n",
              "    border-color: transparent;\n",
              "    border-bottom-color: var(--fill-color);\n",
              "    animation:\n",
              "      spin 1s steps(1) infinite;\n",
              "  }\n",
              "\n",
              "  @keyframes spin {\n",
              "    0% {\n",
              "      border-color: transparent;\n",
              "      border-bottom-color: var(--fill-color);\n",
              "      border-left-color: var(--fill-color);\n",
              "    }\n",
              "    20% {\n",
              "      border-color: transparent;\n",
              "      border-left-color: var(--fill-color);\n",
              "      border-top-color: var(--fill-color);\n",
              "    }\n",
              "    30% {\n",
              "      border-color: transparent;\n",
              "      border-left-color: var(--fill-color);\n",
              "      border-top-color: var(--fill-color);\n",
              "      border-right-color: var(--fill-color);\n",
              "    }\n",
              "    40% {\n",
              "      border-color: transparent;\n",
              "      border-right-color: var(--fill-color);\n",
              "      border-top-color: var(--fill-color);\n",
              "    }\n",
              "    60% {\n",
              "      border-color: transparent;\n",
              "      border-right-color: var(--fill-color);\n",
              "    }\n",
              "    80% {\n",
              "      border-color: transparent;\n",
              "      border-right-color: var(--fill-color);\n",
              "      border-bottom-color: var(--fill-color);\n",
              "    }\n",
              "    90% {\n",
              "      border-color: transparent;\n",
              "      border-bottom-color: var(--fill-color);\n",
              "    }\n",
              "  }\n",
              "</style>\n",
              "\n",
              "  <script>\n",
              "    async function quickchart(key) {\n",
              "      const quickchartButtonEl =\n",
              "        document.querySelector('#' + key + ' button');\n",
              "      quickchartButtonEl.disabled = true;  // To prevent multiple clicks.\n",
              "      quickchartButtonEl.classList.add('colab-df-spinner');\n",
              "      try {\n",
              "        const charts = await google.colab.kernel.invokeFunction(\n",
              "            'suggestCharts', [key], {});\n",
              "      } catch (error) {\n",
              "        console.error('Error during call to suggestCharts:', error);\n",
              "      }\n",
              "      quickchartButtonEl.classList.remove('colab-df-spinner');\n",
              "      quickchartButtonEl.classList.add('colab-df-quickchart-complete');\n",
              "    }\n",
              "    (() => {\n",
              "      let quickchartButtonEl =\n",
              "        document.querySelector('#df-a18d75bc-3127-44ed-9772-c3c523573f02 button');\n",
              "      quickchartButtonEl.style.display =\n",
              "        google.colab.kernel.accessAllowed ? 'block' : 'none';\n",
              "    })();\n",
              "  </script>\n",
              "</div>\n",
              "\n",
              "    </div>\n",
              "  </div>\n"
            ],
            "application/vnd.google.colaboratory.intrinsic+json": {
              "type": "dataframe",
              "variable_name": "data"
            }
          },
          "metadata": {},
          "execution_count": 4
        }
      ],
      "source": [
        "data.head()"
      ]
    },
    {
      "cell_type": "markdown",
      "metadata": {
        "id": "GcDs78ZH_qRH"
      },
      "source": [
        "2. Investigate the dataset for missing or problematic data."
      ]
    },
    {
      "cell_type": "code",
      "execution_count": 52,
      "metadata": {
        "id": "6CwL6oWj_qRH",
        "colab": {
          "base_uri": "https://localhost:8080/"
        },
        "outputId": "4aac7ff3-8709-4cd6-a5ee-a664713f62eb"
      },
      "outputs": [
        {
          "output_type": "stream",
          "name": "stdout",
          "text": [
            "destination\n",
            "destination\n",
            "No Urgent Place    6283\n",
            "Home               3237\n",
            "Work               3164\n",
            "Name: count, dtype: int64\n",
            "passanger\n",
            "passanger\n",
            "Alone        7305\n",
            "Friend(s)    3298\n",
            "Partner      1075\n",
            "Kid(s)       1006\n",
            "Name: count, dtype: int64\n",
            "weather\n",
            "weather\n",
            "Sunny    10069\n",
            "Snowy     1405\n",
            "Rainy     1210\n",
            "Name: count, dtype: int64\n",
            "temperature\n",
            "temperature\n",
            "80    6528\n",
            "55    3840\n",
            "30    2316\n",
            "Name: count, dtype: int64\n",
            "time\n",
            "time\n",
            "6PM     3230\n",
            "7AM     3164\n",
            "10AM    2275\n",
            "2PM     2009\n",
            "10PM    2006\n",
            "Name: count, dtype: int64\n",
            "coupon\n",
            "coupon\n",
            "Coffee House             3996\n",
            "Restaurant(<20)          2786\n",
            "Carry out & Take away    2393\n",
            "Bar                      2017\n",
            "Restaurant(20-50)        1492\n",
            "Name: count, dtype: int64\n",
            "expiration\n",
            "expiration\n",
            "1d    7091\n",
            "2h    5593\n",
            "Name: count, dtype: int64\n",
            "gender\n",
            "gender\n",
            "Female    6511\n",
            "Male      6173\n",
            "Name: count, dtype: int64\n",
            "age\n",
            "age\n",
            "21         2653\n",
            "26         2559\n",
            "31         2039\n",
            "50plus     1788\n",
            "36         1319\n",
            "41         1093\n",
            "46          686\n",
            "below21     547\n",
            "Name: count, dtype: int64\n",
            "maritalStatus\n",
            "maritalStatus\n",
            "Married partner      5100\n",
            "Single               4752\n",
            "Unmarried partner    2186\n",
            "Divorced              516\n",
            "Widowed               130\n",
            "Name: count, dtype: int64\n",
            "has_children\n",
            "has_children\n",
            "0    7431\n",
            "1    5253\n",
            "Name: count, dtype: int64\n",
            "education\n",
            "education\n",
            "Some college - no degree                  4351\n",
            "Bachelors degree                          4335\n",
            "Graduate degree (Masters or Doctorate)    1852\n",
            "Associates degree                         1153\n",
            "High School Graduate                       905\n",
            "Some High School                            88\n",
            "Name: count, dtype: int64\n",
            "occupation\n",
            "occupation\n",
            "Unemployed                                   1870\n",
            "Student                                      1584\n",
            "Computer & Mathematical                      1408\n",
            "Sales & Related                              1093\n",
            "Education&Training&Library                    943\n",
            "Management                                    838\n",
            "Office & Administrative Support               639\n",
            "Arts Design Entertainment Sports & Media      629\n",
            "Business & Financial                          544\n",
            "Retired                                       495\n",
            "Food Preparation & Serving Related            298\n",
            "Healthcare Practitioners & Technical          244\n",
            "Healthcare Support                            242\n",
            "Community & Social Services                   241\n",
            "Legal                                         219\n",
            "Transportation & Material Moving              218\n",
            "Architecture & Engineering                    175\n",
            "Personal Care & Service                       175\n",
            "Protective Service                            175\n",
            "Life Physical Social Science                  170\n",
            "Construction & Extraction                     154\n",
            "Installation Maintenance & Repair             133\n",
            "Production Occupations                        110\n",
            "Building & Grounds Cleaning & Maintenance      44\n",
            "Farming Fishing & Forestry                     43\n",
            "Name: count, dtype: int64\n",
            "income\n",
            "income\n",
            "$25000 - $37499     2013\n",
            "$12500 - $24999     1831\n",
            "$37500 - $49999     1805\n",
            "$100000 or More     1736\n",
            "$50000 - $62499     1659\n",
            "Less than $12500    1042\n",
            "$87500 - $99999      895\n",
            "$75000 - $87499      857\n",
            "$62500 - $74999      846\n",
            "Name: count, dtype: int64\n",
            "car\n",
            "car\n",
            "Scooter and motorcycle                      22\n",
            "Mazda5                                      22\n",
            "do not drive                                22\n",
            "crossover                                   21\n",
            "Car that is too old to install Onstar :D    21\n",
            "Name: count, dtype: int64\n",
            "Bar\n",
            "Bar\n",
            "never    5197\n",
            "less1    3482\n",
            "1~3      2473\n",
            "4~8      1076\n",
            "gt8       349\n",
            "Name: count, dtype: int64\n",
            "CoffeeHouse\n",
            "CoffeeHouse\n",
            "less1    3385\n",
            "1~3      3225\n",
            "never    2962\n",
            "4~8      1784\n",
            "gt8      1111\n",
            "Name: count, dtype: int64\n",
            "CarryAway\n",
            "CarryAway\n",
            "1~3      4672\n",
            "4~8      4258\n",
            "less1    1856\n",
            "gt8      1594\n",
            "never     153\n",
            "Name: count, dtype: int64\n",
            "RestaurantLessThan20\n",
            "RestaurantLessThan20\n",
            "1~3      5376\n",
            "4~8      3580\n",
            "less1    2093\n",
            "gt8      1285\n",
            "never     220\n",
            "Name: count, dtype: int64\n",
            "Restaurant20To50\n",
            "Restaurant20To50\n",
            "less1    6077\n",
            "1~3      3290\n",
            "never    2136\n",
            "4~8       728\n",
            "gt8       264\n",
            "Name: count, dtype: int64\n",
            "toCoupon_GEQ5min\n",
            "toCoupon_GEQ5min\n",
            "1    12684\n",
            "Name: count, dtype: int64\n",
            "toCoupon_GEQ15min\n",
            "toCoupon_GEQ15min\n",
            "1    7122\n",
            "0    5562\n",
            "Name: count, dtype: int64\n",
            "toCoupon_GEQ25min\n",
            "toCoupon_GEQ25min\n",
            "0    11173\n",
            "1     1511\n",
            "Name: count, dtype: int64\n",
            "direction_same\n",
            "direction_same\n",
            "0    9960\n",
            "1    2724\n",
            "Name: count, dtype: int64\n",
            "direction_opp\n",
            "direction_opp\n",
            "1    9960\n",
            "0    2724\n",
            "Name: count, dtype: int64\n",
            "Y\n",
            "Y\n",
            "1    7210\n",
            "0    5474\n",
            "Name: count, dtype: int64\n"
          ]
        },
        {
          "output_type": "execute_result",
          "data": {
            "text/plain": [
              "74"
            ]
          },
          "metadata": {},
          "execution_count": 52
        }
      ],
      "source": [
        "#find out unique value of each column and its counts\n",
        "for col in data.columns:\n",
        "    print(col)\n",
        "    print(data[col].value_counts())\n",
        "\n",
        "#Find number of null values in each column\n",
        "data.isna().sum()\n",
        "\n",
        "#identify if there are any duplicated records\n",
        "data.duplicated().sum()\n",
        "\n"
      ]
    },
    {
      "cell_type": "markdown",
      "metadata": {
        "id": "bSdVSpYB_qRH"
      },
      "source": [
        "3. Decide what to do about your missing data -- drop, replace, other...\n",
        "\n",
        "*   List item\n",
        "*   List item\n",
        "\n"
      ]
    },
    {
      "cell_type": "code",
      "source": [
        "# remove duplicate records\n",
        "data.drop_duplicates(inplace=True)\n",
        "\n",
        "#convert age column to numeric for which assigned some default value for 50plus and below21\n",
        "data['age'] = data['age'].replace({'50plus': '55','below21': '10'})\n",
        "data['age'] = data['age'].str.strip()\n",
        "data['age'] = pd.to_numeric(data['age'], errors='coerce').astype('int64')\n",
        "\n",
        "#separate income column that has range into minIncome and maxIncome and convert to numeric type\n",
        "data[['minIncome', 'maxIncome']] = data['income'].str.split(' - ', expand=True)\n",
        "data['minIncome'] = data['minIncome'].str.replace('$', '')\n",
        "data['maxIncome'] = data['maxIncome'].str.replace('$', '')\n",
        "\n",
        "\n",
        "data['minIncome'] = data['minIncome'].replace({'100000 or More': '100000','Less than 12500': '0'})\n",
        "data['minIncome'] = pd.to_numeric(data['minIncome'], errors='coerce').astype('int64')\n",
        "\n",
        "data.loc[data['income'] == '$100000 or More', 'maxIncome'] = '200000'\n",
        "data.loc[data['income'] == 'Less than $12500', 'maxIncome'] = '12500'\n",
        "data['maxIncome'] = pd.to_numeric(data['maxIncome'], errors='coerce').astype('int64')\n",
        "\n",
        "data.info()\n"
      ],
      "metadata": {
        "colab": {
          "base_uri": "https://localhost:8080/"
        },
        "id": "ikTPe3RtVAmu",
        "outputId": "c5c4777e-5291-4e4d-c0f6-b12294f19876"
      },
      "execution_count": 53,
      "outputs": [
        {
          "output_type": "stream",
          "name": "stdout",
          "text": [
            "<class 'pandas.core.frame.DataFrame'>\n",
            "Index: 12610 entries, 0 to 12683\n",
            "Data columns (total 28 columns):\n",
            " #   Column                Non-Null Count  Dtype \n",
            "---  ------                --------------  ----- \n",
            " 0   destination           12610 non-null  object\n",
            " 1   passanger             12610 non-null  object\n",
            " 2   weather               12610 non-null  object\n",
            " 3   temperature           12610 non-null  int64 \n",
            " 4   time                  12610 non-null  object\n",
            " 5   coupon                12610 non-null  object\n",
            " 6   expiration            12610 non-null  object\n",
            " 7   gender                12610 non-null  object\n",
            " 8   age                   12610 non-null  int64 \n",
            " 9   maritalStatus         12610 non-null  object\n",
            " 10  has_children          12610 non-null  int64 \n",
            " 11  education             12610 non-null  object\n",
            " 12  occupation            12610 non-null  object\n",
            " 13  income                12610 non-null  object\n",
            " 14  car                   108 non-null    object\n",
            " 15  Bar                   12503 non-null  object\n",
            " 16  CoffeeHouse           12393 non-null  object\n",
            " 17  CarryAway             12460 non-null  object\n",
            " 18  RestaurantLessThan20  12481 non-null  object\n",
            " 19  Restaurant20To50      12421 non-null  object\n",
            " 20  toCoupon_GEQ5min      12610 non-null  int64 \n",
            " 21  toCoupon_GEQ15min     12610 non-null  int64 \n",
            " 22  toCoupon_GEQ25min     12610 non-null  int64 \n",
            " 23  direction_same        12610 non-null  int64 \n",
            " 24  direction_opp         12610 non-null  int64 \n",
            " 25  Y                     12610 non-null  int64 \n",
            " 26  minIncome             12610 non-null  int64 \n",
            " 27  maxIncome             12610 non-null  int64 \n",
            "dtypes: int64(11), object(17)\n",
            "memory usage: 2.8+ MB\n"
          ]
        }
      ]
    },
    {
      "cell_type": "code",
      "execution_count": 79,
      "metadata": {
        "id": "tyvoAC5F_qRI"
      },
      "outputs": [],
      "source": []
    },
    {
      "cell_type": "markdown",
      "metadata": {
        "id": "YE6oJbXd_qRI"
      },
      "source": [
        "4. What proportion of the total observations chose to accept the coupon?\n",
        "\n"
      ]
    },
    {
      "cell_type": "code",
      "execution_count": 35,
      "metadata": {
        "id": "86GGqBTv_qRI",
        "colab": {
          "base_uri": "https://localhost:8080/",
          "height": 466
        },
        "outputId": "8407331d-36eb-43a9-9911-58d45a6a1d4c"
      },
      "outputs": [
        {
          "output_type": "stream",
          "name": "stdout",
          "text": [
            "Proportion of the total observations chose to accept the coupon 0.5675654242664552\n"
          ]
        },
        {
          "output_type": "display_data",
          "data": {
            "text/plain": [
              "<Figure size 640x480 with 1 Axes>"
            ],
            "image/png": "[encoded data removed]"
          },
          "metadata": {}
        }
      ],
      "source": [
        "total_observations=data.shape[0]\n",
        "coupons_accepted_count=data[data['Y']==1].shape[0]\n",
        "coupons_accepted_proportion=coupons_accepted_count/total_observations\n",
        "print(\"Proportion of the total observations chose to accept the coupon\",coupons_accepted_proportion)\n",
        "counts = data['Y'].value_counts()\n",
        "\n",
        "sns.barplot(x=counts.index, y=counts.values)\n",
        "plt.show()\n",
        "#This indicates that 56% of observations have accepted the coupons"
      ]
    },
    {
      "cell_type": "markdown",
      "metadata": {
        "id": "vflz0DoE_qRI"
      },
      "source": [
        "5. Use a bar plot to visualize the `coupon` column."
      ]
    },
    {
      "cell_type": "code",
      "execution_count": 36,
      "metadata": {
        "id": "dHFh3E45_qRI",
        "colab": {
          "base_uri": "https://localhost:8080/",
          "height": 472
        },
        "outputId": "ff487e00-1176-4b72-e11e-60a39f24781f"
      },
      "outputs": [
        {
          "output_type": "display_data",
          "data": {
            "text/plain": [
              "<Figure size 640x480 with 1 Axes>"
            ],
            "image/png": "[encoded data removed]"
          },
          "metadata": {}
        }
      ],
      "source": [
        "# display count for each coupon categories using bar plot\n",
        "sns.barplot(data['coupon'])\n",
        "plt.title('Barplot for Coupon Categories')\n",
        "plt.ylabel('Coupon Category')\n",
        "plt.xlabel('Count of Coupon Category')\n",
        "plt.show()\n"
      ]
    },
    {
      "cell_type": "markdown",
      "metadata": {
        "id": "Qw4lCyx2_qRI"
      },
      "source": [
        "6. Use a histogram to visualize the temperature column."
      ]
    },
    {
      "cell_type": "code",
      "execution_count": 37,
      "metadata": {
        "id": "Yg9Anv71_qRI",
        "colab": {
          "base_uri": "https://localhost:8080/",
          "height": 472
        },
        "outputId": "85b86552-41c6-4d54-aa27-7e9c0fbc5637"
      },
      "outputs": [
        {
          "output_type": "display_data",
          "data": {
            "text/plain": [
              "<Figure size 640x480 with 1 Axes>"
            ],
            "image/png": "[encoded data removed]"
          },
          "metadata": {}
        }
      ],
      "source": [
        "# display frequency  for each temperature  using histogram plot\n",
        "\n",
        "sns.histplot(data['temperature'])\n",
        "plt.title('Histogram of Temperature')\n",
        "plt.xlabel('Temperature')\n",
        "plt.ylabel('Frequency')\n",
        "plt.show()"
      ]
    },
    {
      "cell_type": "code",
      "execution_count": null,
      "metadata": {
        "id": "zLtOaJQk_qRI"
      },
      "outputs": [],
      "source": []
    },
    {
      "cell_type": "markdown",
      "metadata": {
        "id": "FupfgeJk_qRJ"
      },
      "source": [
        "**Investigating the Bar Coupons**\n",
        "\n",
        "Now, we will lead you through an exploration of just the bar related coupons.  \n",
        "\n",
        "1. Create a new `DataFrame` that contains just the bar coupons.\n"
      ]
    },
    {
      "cell_type": "code",
      "execution_count": 38,
      "metadata": {
        "id": "tMBlWuGq_qRJ"
      },
      "outputs": [],
      "source": [
        "data_bar=data[data['coupon']=='Bar']"
      ]
    },
    {
      "cell_type": "markdown",
      "metadata": {
        "id": "8ue6uCqf_qRJ"
      },
      "source": [
        "2. What proportion of bar coupons were accepted?\n"
      ]
    },
    {
      "cell_type": "code",
      "execution_count": 39,
      "metadata": {
        "id": "hSdte8Mi_qRK",
        "colab": {
          "base_uri": "https://localhost:8080/"
        },
        "outputId": "02e8dba0-7e7a-4100-a8f1-c53ed95dfc10"
      },
      "outputs": [
        {
          "output_type": "stream",
          "name": "stdout",
          "text": [
            "Proportion of bar coupons that were accepted 0.4099502487562189\n"
          ]
        }
      ],
      "source": [
        "count_barcoupon_accepted=data_bar[data_bar['Y']==1].shape[0]\n",
        "total_bar_coupons=data_bar.shape[0]\n",
        "proportion_barcoupon_accepted=count_barcoupon_accepted/total_bar_coupons\n",
        "print(\"Proportion of bar coupons that were accepted\",proportion_barcoupon_accepted)\n",
        "\n",
        "# This indicates that 40% of bar coupons got accepted as per the data\n"
      ]
    },
    {
      "cell_type": "markdown",
      "metadata": {
        "id": "85nA_iEi_qRK"
      },
      "source": [
        "3. Compare the acceptance rate between those who went to a bar 3 or fewer times a month to those who went more.\n"
      ]
    },
    {
      "cell_type": "code",
      "source": [
        "fewer_times=['never','less1','1~3']\n",
        "more_times=['4~8','gt8']\n",
        "drivers_bar_fewertimes=data_bar[(data_bar['Bar'].isin(fewer_times)) & (data_bar['Y']==1)]\n",
        "drivers_bar_moretimes=data_bar[data_bar['Bar'].isin(more_times) & data_bar['Y']==1]\n",
        "acceptance_rate_lessthan3times_more=drivers_bar_fewertimes.shape[0]/drivers_bar_moretimes.shape[0]\n",
        "\n",
        "print(\"Acceptance rate between those who went to a bar 3 or fewer times a month to those who went more.\",acceptance_rate_lessthan3times_more)\n",
        "# This indicates that drivers who went to bar less times accepted the coupon  4 times more than the drivers who went more."
      ],
      "metadata": {
        "colab": {
          "base_uri": "https://localhost:8080/"
        },
        "id": "CvGjkgy4Nnbg",
        "outputId": "83fe77fd-e952-431d-8f5c-6bec35f01880"
      },
      "execution_count": 15,
      "outputs": [
        {
          "output_type": "stream",
          "name": "stdout",
          "text": [
            "Acceptance rate between those who went to a bar 3 or fewer times a month to those who went more. 4.333333333333333\n"
          ]
        }
      ]
    },
    {
      "cell_type": "code",
      "execution_count": 85,
      "metadata": {
        "id": "LBOrN-XM_qRK"
      },
      "outputs": [],
      "source": []
    },
    {
      "cell_type": "markdown",
      "metadata": {
        "id": "RBgcQwH4_qRK"
      },
      "source": [
        "4. Compare the acceptance rate between drivers who go to a bar more than once a month and are over the age of 25 to the all others.  Is there a difference?\n"
      ]
    },
    {
      "cell_type": "code",
      "execution_count": 40,
      "metadata": {
        "id": "bf28bbeX_qRK",
        "colab": {
          "base_uri": "https://localhost:8080/"
        },
        "outputId": "051ee503-a604-45c7-f7ec-5480bd59bbcc"
      },
      "outputs": [
        {
          "output_type": "stream",
          "name": "stdout",
          "text": [
            "acceptance rate between drivers who go to a bar more than once a month and are over the age of 25 to the all others 0.5488721804511278\n"
          ]
        }
      ],
      "source": [
        "more_than_once_times=['4~8','gt8','1~3']\n",
        "drivers_age25_morethanoncebar=data_bar[(data_bar['Bar'].isin(more_than_once_times)) & (data_bar['age']>25) & (data_bar['Y']==1)]\n",
        "other_drivers_age25_morethanoncebar=data_bar[~((data_bar['Bar'].isin(more_than_once_times)) & (data_bar['age']>25))  & (data_bar['Y']==1)]\n",
        "acceptance_rate_driversage25bar_others=drivers_age25_morethanoncebar.shape[0]/other_drivers_age25_morethanoncebar.shape[0]\n",
        "\n",
        "print('acceptance rate between drivers who go to a bar more than once a month and are over the age of 25 to the all others',acceptance_rate_driversage25bar_others)\n",
        "# This indicates 54% of drivers who went to bar more than once and over 25 age has accepted coupon vs the other drivers who accepted the coupon.\n",
        "\n"
      ]
    },
    {
      "cell_type": "markdown",
      "metadata": {
        "id": "S4RKT4PJ_qRK"
      },
      "source": [
        "5. Use the same process to compare the acceptance rate between drivers who go to bars more than once a month and had passengers that were not a kid and had occupations other than farming, fishing, or forestry.\n"
      ]
    },
    {
      "cell_type": "code",
      "execution_count": 41,
      "metadata": {
        "id": "sENaI2Tg_qRK",
        "colab": {
          "base_uri": "https://localhost:8080/"
        },
        "outputId": "6da289ba-fa52-4e36-dc3e-27ce35ee8ac6"
      },
      "outputs": [
        {
          "output_type": "stream",
          "name": "stdout",
          "text": [
            "acceptance rate between drivers who go to bars more than once a month and had passengers that were not a kid and had occupations other than farming, fishing, or forestry is 0.9118329466357309\n"
          ]
        }
      ],
      "source": [
        "more_than_once_times=['4~8','gt8','1~3']\n",
        "other_occupations=['farming','fishing','forestry']\n",
        "\n",
        "drivers_no_kid_occupations_morethanoncebar=data_bar[(data_bar['Bar'].isin(more_than_once_times)) & ~(data_bar['occupation'].isin(other_occupations)) & ~(data_bar['passanger']=='Kid(s)') & (data_bar['Y']==1)]\n",
        "other_drivers_no_kid_occupations_morethanoncebar=data_bar[~((data_bar['Bar'].isin(more_than_once_times)) & ~(data_bar['occupation'].isin(other_occupations)) & ~(data_bar['passanger']=='Kid(s)') )& (data_bar['Y']==1)]\n",
        "acceptance_rate_drivers_no_kid_occupations_morethanoncebar=drivers_no_kid_occupations_morethanoncebar.shape[0]/other_drivers_no_kid_occupations_morethanoncebar.shape[0]\n",
        "print('acceptance rate between drivers who go to bars more than once a month and had passengers that were not a kid and had occupations other than farming, fishing, or forestry is',acceptance_rate_drivers_no_kid_occupations_morethanoncebar)\n",
        "\n",
        "# This indicates 91% of drivers who went to bar more than once a month with no kids as passengers and in occupations other than  farming, fishing, or forestry , accepted the coupons."
      ]
    },
    {
      "cell_type": "markdown",
      "metadata": {
        "id": "n2LIUTil_qRK"
      },
      "source": [
        "6. Compare the acceptance rates between those drivers who:\n",
        "\n",
        "- go to bars more than once a month, had passengers that were not a kid, and were not widowed *OR*\n",
        "- go to bars more than once a month and are under the age of 30 *OR*\n",
        "- go to cheap restaurants more than 4 times a month and income is less than 50K.\n",
        "\n"
      ]
    },
    {
      "cell_type": "code",
      "execution_count": 42,
      "metadata": {
        "id": "aK_wEzx7_qRK",
        "colab": {
          "base_uri": "https://localhost:8080/"
        },
        "outputId": "45c0b829-8393-4b7a-edea-31b4f6cff83c"
      },
      "outputs": [
        {
          "output_type": "stream",
          "name": "stdout",
          "text": [
            "acceptance rates between those drivers who go to bars more than once a month, had passengers that were not a kid, and were not widowed 0.4330434782608696\n",
            "acceptance rates between those drivers who go to bars more than once a month and are under the age of 30 0.9118329466357309\n",
            "acceptance rates between those drivers who go to cheap restaurants more than 4 times a month and income is less than 50K 0.1715501718775577\n"
          ]
        }
      ],
      "source": [
        "drivers_morethanonce_nokids_window=data_bar[data_bar['Bar'].isin(more_than_once_times) & ~(data_bar['passanger']=='Kid(s)') & ~(data_bar['maritalStatus']=='widowed') & (data_bar['Y']==1)]\n",
        "other_drivers_morethanonce_nokids_window=data_bar[~((data_bar['Bar'].isin(more_than_once_times) & ~(data_bar['passanger']=='Kid(s)') & ~(data_bar['maritalStatus']=='widowed'))) & (data_bar['Y']==1)]\n",
        "acceptance_rate_drivers_no_kid_occupations_morethanoncebar=drivers_morethanonce_nokids_window.shape[0]/other_drivers_morethanonce_nokids_window.shape[0]\n",
        "\n",
        "\n",
        "drivers_morethanonce_ageunder30=data_bar[data_bar['Bar'].isin(more_than_once_times) & (data_bar['age']<30) & (data_bar['Y']==1)]\n",
        "other_drivers_morethanonce_ageunder30=data_bar[~(data_bar['Bar'].isin(more_than_once_times) & (data_bar['age']<30)) & (data_bar['Y']==1)]\n",
        "acceptance_rate_drivers_ageunder30_morethanonce=drivers_morethanonce_ageunder30.shape[0]/other_drivers_morethanonce_ageunder30.shape[0]\n",
        "\n",
        "drivers_restaurant=data[(data['coupon']=='Restaurant(<20)') & (data['maxIncome']<50000) & (data['Y']==1)]\n",
        "other_drivers_restaurant=data[~((data['coupon']=='Restaurant(<20)') & (data['maxIncome']<50000) ) & (data['Y']==1)]\n",
        "acceptance_rate_drivers_restaurant=drivers_restaurant.shape[0]/other_drivers_restaurant.shape[0]\n",
        "\n",
        "print(\"acceptance rates between those drivers who go to bars more than once a month, had passengers that were not a kid, and were not widowed\",acceptance_rate_drivers_ageunder30_morethanonce)\n",
        "print(\"acceptance rates between those drivers who go to bars more than once a month and are under the age of 30\",acceptance_rate_drivers_no_kid_occupations_morethanoncebar)\n",
        "print('acceptance rates between those drivers who go to cheap restaurants more than 4 times a month and income is less than 50K',acceptance_rate_drivers_restaurant)\n",
        "\n",
        "#This indicates that 91% of drivers who went to bars and aged<30 accepted coupon  vs others\n",
        "# This indicates that only 17% of drivers, who had income less thatn 50K and visited cheap restaurants , accepted the coupons\n",
        "# This indicates that 43% of drivers, who went to bars more than once and no kids and no widow passengers ,accepted the coupons"
      ]
    },
    {
      "cell_type": "markdown",
      "metadata": {
        "id": "v3fL3QkO_qRK"
      },
      "source": [
        "7.  Based on these observations, what do you hypothesize about drivers who accepted the bar coupons?"
      ]
    },
    {
      "cell_type": "code",
      "execution_count": 173,
      "metadata": {
        "id": "Y48naDFh_qRL"
      },
      "outputs": [],
      "source": [
        "# This indicates 91% of drivers who went to bar more than once a month with no kids as passengers and in occupations other than  farming, fishing, or forestry , accepted the coupons.\n",
        "# This indicates 54% of drivers who went to bar more than once and over 25 age has accepted coupon vs the other drivers who accepted the coupon.\n",
        "# This indicates that 40% of bar coupons got accepted as per the data\n",
        "#This indicates that 91% of drivers who went to bars and aged<30 accepted coupon  vs others\n",
        "# This indicates that only 17% of drivers, who had income less thatn 50K and visited cheap restaurants , accepted the coupons\n",
        "# This indicates that 43% of drivers, who went to bars more than once and no kids and no widow passengers ,accepted the coupons\n",
        "# This indicates that drivers who went to bar less times accepted the coupon  4 times more than the drivers who went more.\n",
        "\n",
        "# Based on these we can confidently say that drivers who went to bar fewer times will definitely accepts the coupon\n",
        "# In the order,drivers who visited more than once a month to bar with no kid passengers will have high chance of accepting the coupon\n",
        "# next in order comes drivers who visited more than once and are aged>25\n",
        "\n",
        "\n"
      ]
    },
    {
      "cell_type": "markdown",
      "metadata": {
        "id": "r4Hu1zOb_qRL"
      },
      "source": [
        "### Independent Investigation\n",
        "\n",
        "Using the bar coupon example as motivation, you are to explore one of the other coupon groups and try to determine the characteristics of passengers who accept the coupons.  "
      ]
    },
    {
      "cell_type": "code",
      "execution_count": 54,
      "metadata": {
        "colab": {
          "base_uri": "https://localhost:8080/",
          "height": 342
        },
        "outputId": "244d3872-80df-4f77-8026-1b5ff6c4fb5f",
        "id": "_ie4_6o3WF0e"
      },
      "outputs": [
        {
          "output_type": "execute_result",
          "data": {
            "text/plain": [
              "        destination  passanger weather  temperature  time        coupon  \\\n",
              "1   No Urgent Place  Friend(s)   Sunny           80  10AM  Coffee House   \n",
              "3   No Urgent Place  Friend(s)   Sunny           80   2PM  Coffee House   \n",
              "4   No Urgent Place  Friend(s)   Sunny           80   2PM  Coffee House   \n",
              "12  No Urgent Place     Kid(s)   Sunny           55   6PM  Coffee House   \n",
              "15             Home      Alone   Sunny           80   6PM  Coffee House   \n",
              "\n",
              "   expiration  gender  age      maritalStatus  ...  RestaurantLessThan20  \\\n",
              "1          2h  Female   21  Unmarried partner  ...                   4~8   \n",
              "3          2h  Female   21  Unmarried partner  ...                   4~8   \n",
              "4          1d  Female   21  Unmarried partner  ...                   4~8   \n",
              "12         2h  Female   21  Unmarried partner  ...                   4~8   \n",
              "15         2h  Female   21  Unmarried partner  ...                   4~8   \n",
              "\n",
              "   Restaurant20To50 toCoupon_GEQ5min toCoupon_GEQ15min toCoupon_GEQ25min  \\\n",
              "1               1~3                1                 0                 0   \n",
              "3               1~3                1                 1                 0   \n",
              "4               1~3                1                 1                 0   \n",
              "12              1~3                1                 1                 0   \n",
              "15              1~3                1                 0                 0   \n",
              "\n",
              "   direction_same direction_opp  Y minIncome maxIncome  \n",
              "1               0             1  0     37500     49999  \n",
              "3               0             1  0     37500     49999  \n",
              "4               0             1  0     37500     49999  \n",
              "12              0             1  1     37500     49999  \n",
              "15              0             1  0     37500     49999  \n",
              "\n",
              "[5 rows x 28 columns]"
            ],
            "text/html": [
              "\n",
              "  <div id=\"df-c8af6505-2bfb-4db5-88d5-b7d65eb8f4e0\" class=\"colab-df-container\">\n",
              "    <div>\n",
              "<style scoped>\n",
              "    .dataframe tbody tr th:only-of-type {\n",
              "        vertical-align: middle;\n",
              "    }\n",
              "\n",
              "    .dataframe tbody tr th {\n",
              "        vertical-align: top;\n",
              "    }\n",
              "\n",
              "    .dataframe thead th {\n",
              "        text-align: right;\n",
              "    }\n",
              "</style>\n",
              "<table border=\"1\" class=\"dataframe\">\n",
              "  <thead>\n",
              "    <tr style=\"text-align: right;\">\n",
              "      <th></th>\n",
              "      <th>destination</th>\n",
              "      <th>passanger</th>\n",
              "      <th>weather</th>\n",
              "      <th>temperature</th>\n",
              "      <th>time</th>\n",
              "      <th>coupon</th>\n",
              "      <th>expiration</th>\n",
              "      <th>gender</th>\n",
              "      <th>age</th>\n",
              "      <th>maritalStatus</th>\n",
              "      <th>...</th>\n",
              "      <th>RestaurantLessThan20</th>\n",
              "      <th>Restaurant20To50</th>\n",
              "      <th>toCoupon_GEQ5min</th>\n",
              "      <th>toCoupon_GEQ15min</th>\n",
              "      <th>toCoupon_GEQ25min</th>\n",
              "      <th>direction_same</th>\n",
              "      <th>direction_opp</th>\n",
              "      <th>Y</th>\n",
              "      <th>minIncome</th>\n",
              "      <th>maxIncome</th>\n",
              "    </tr>\n",
              "  </thead>\n",
              "  <tbody>\n",
              "    <tr>\n",
              "      <th>1</th>\n",
              "      <td>No Urgent Place</td>\n",
              "      <td>Friend(s)</td>\n",
              "      <td>Sunny</td>\n",
              "      <td>80</td>\n",
              "      <td>10AM</td>\n",
              "      <td>Coffee House</td>\n",
              "      <td>2h</td>\n",
              "      <td>Female</td>\n",
              "      <td>21</td>\n",
              "      <td>Unmarried partner</td>\n",
              "      <td>...</td>\n",
              "      <td>4~8</td>\n",
              "      <td>1~3</td>\n",
              "      <td>1</td>\n",
              "      <td>0</td>\n",
              "      <td>0</td>\n",
              "      <td>0</td>\n",
              "      <td>1</td>\n",
              "      <td>0</td>\n",
              "      <td>37500</td>\n",
              "      <td>49999</td>\n",
              "    </tr>\n",
              "    <tr>\n",
              "      <th>3</th>\n",
              "      <td>No Urgent Place</td>\n",
              "      <td>Friend(s)</td>\n",
              "      <td>Sunny</td>\n",
              "      <td>80</td>\n",
              "      <td>2PM</td>\n",
              "      <td>Coffee House</td>\n",
              "      <td>2h</td>\n",
              "      <td>Female</td>\n",
              "      <td>21</td>\n",
              "      <td>Unmarried partner</td>\n",
              "      <td>...</td>\n",
              "      <td>4~8</td>\n",
              "      <td>1~3</td>\n",
              "      <td>1</td>\n",
              "      <td>1</td>\n",
              "      <td>0</td>\n",
              "      <td>0</td>\n",
              "      <td>1</td>\n",
              "      <td>0</td>\n",
              "      <td>37500</td>\n",
              "      <td>49999</td>\n",
              "    </tr>\n",
              "    <tr>\n",
              "      <th>4</th>\n",
              "      <td>No Urgent Place</td>\n",
              "      <td>Friend(s)</td>\n",
              "      <td>Sunny</td>\n",
              "      <td>80</td>\n",
              "      <td>2PM</td>\n",
              "      <td>Coffee House</td>\n",
              "      <td>1d</td>\n",
              "      <td>Female</td>\n",
              "      <td>21</td>\n",
              "      <td>Unmarried partner</td>\n",
              "      <td>...</td>\n",
              "      <td>4~8</td>\n",
              "      <td>1~3</td>\n",
              "      <td>1</td>\n",
              "      <td>1</td>\n",
              "      <td>0</td>\n",
              "      <td>0</td>\n",
              "      <td>1</td>\n",
              "      <td>0</td>\n",
              "      <td>37500</td>\n",
              "      <td>49999</td>\n",
              "    </tr>\n",
              "    <tr>\n",
              "      <th>12</th>\n",
              "      <td>No Urgent Place</td>\n",
              "      <td>Kid(s)</td>\n",
              "      <td>Sunny</td>\n",
              "      <td>55</td>\n",
              "      <td>6PM</td>\n",
              "      <td>Coffee House</td>\n",
              "      <td>2h</td>\n",
              "      <td>Female</td>\n",
              "      <td>21</td>\n",
              "      <td>Unmarried partner</td>\n",
              "      <td>...</td>\n",
              "      <td>4~8</td>\n",
              "      <td>1~3</td>\n",
              "      <td>1</td>\n",
              "      <td>1</td>\n",
              "      <td>0</td>\n",
              "      <td>0</td>\n",
              "      <td>1</td>\n",
              "      <td>1</td>\n",
              "      <td>37500</td>\n",
              "      <td>49999</td>\n",
              "    </tr>\n",
              "    <tr>\n",
              "      <th>15</th>\n",
              "      <td>Home</td>\n",
              "      <td>Alone</td>\n",
              "      <td>Sunny</td>\n",
              "      <td>80</td>\n",
              "      <td>6PM</td>\n",
              "      <td>Coffee House</td>\n",
              "      <td>2h</td>\n",
              "      <td>Female</td>\n",
              "      <td>21</td>\n",
              "      <td>Unmarried partner</td>\n",
              "      <td>...</td>\n",
              "      <td>4~8</td>\n",
              "      <td>1~3</td>\n",
              "      <td>1</td>\n",
              "      <td>0</td>\n",
              "      <td>0</td>\n",
              "      <td>0</td>\n",
              "      <td>1</td>\n",
              "      <td>0</td>\n",
              "      <td>37500</td>\n",
              "      <td>49999</td>\n",
              "    </tr>\n",
              "  </tbody>\n",
              "</table>\n",
              "<p>5 rows × 28 columns</p>\n",
              "</div>\n",
              "    <div class=\"colab-df-buttons\">\n",
              "\n",
              "  <div class=\"colab-df-container\">\n",
              "    <button class=\"colab-df-convert\" onclick=\"convertToInteractive('df-c8af6505-2bfb-4db5-88d5-b7d65eb8f4e0')\"\n",
              "            title=\"Convert this dataframe to an interactive table.\"\n",
              "            style=\"display:none;\">\n",
              "\n",
              "  <svg xmlns=\"http://www.w3.org/2000/svg\" height=\"24px\" viewBox=\"0 -960 960 960\">\n",
              "    <path d=\"M120-120v-720h720v720H120Zm60-500h600v-160H180v160Zm220 220h160v-160H400v160Zm0 220h160v-160H400v160ZM180-400h160v-160H180v160Zm440 0h160v-160H620v160ZM180-180h160v-160H180v160Zm440 0h160v-160H620v160Z\"/>\n",
              "  </svg>\n",
              "    </button>\n",
              "\n",
              "  <style>\n",
              "    .colab-df-container {\n",
              "      display:flex;\n",
              "      gap: 12px;\n",
              "    }\n",
              "\n",
              "    .colab-df-convert {\n",
              "      background-color: #E8F0FE;\n",
              "      border: none;\n",
              "      border-radius: 50%;\n",
              "      cursor: pointer;\n",
              "      display: none;\n",
              "      fill: #1967D2;\n",
              "      height: 32px;\n",
              "      padding: 0 0 0 0;\n",
              "      width: 32px;\n",
              "    }\n",
              "\n",
              "    .colab-df-convert:hover {\n",
              "      background-color: #E2EBFA;\n",
              "      box-shadow: 0px 1px 2px rgba(60, 64, 67, 0.3), 0px 1px 3px 1px rgba(60, 64, 67, 0.15);\n",
              "      fill: #174EA6;\n",
              "    }\n",
              "\n",
              "    .colab-df-buttons div {\n",
              "      margin-bottom: 4px;\n",
              "    }\n",
              "\n",
              "    [theme=dark] .colab-df-convert {\n",
              "      background-color: #3B4455;\n",
              "      fill: #D2E3FC;\n",
              "    }\n",
              "\n",
              "    [theme=dark] .colab-df-convert:hover {\n",
              "      background-color: #434B5C;\n",
              "      box-shadow: 0px 1px 3px 1px rgba(0, 0, 0, 0.15);\n",
              "      filter: drop-shadow(0px 1px 2px rgba(0, 0, 0, 0.3));\n",
              "      fill: #FFFFFF;\n",
              "    }\n",
              "  </style>\n",
              "\n",
              "    <script>\n",
              "      const buttonEl =\n",
              "        document.querySelector('#df-c8af6505-2bfb-4db5-88d5-b7d65eb8f4e0 button.colab-df-convert');\n",
              "      buttonEl.style.display =\n",
              "        google.colab.kernel.accessAllowed ? 'block' : 'none';\n",
              "\n",
              "      async function convertToInteractive(key) {\n",
              "        const element = document.querySelector('#df-c8af6505-2bfb-4db5-88d5-b7d65eb8f4e0');\n",
              "        const dataTable =\n",
              "          await google.colab.kernel.invokeFunction('convertToInteractive',\n",
              "                                                    [key], {});\n",
              "        if (!dataTable) return;\n",
              "\n",
              "        const docLinkHtml = 'Like what you see? Visit the ' +\n",
              "          '<a target=\"_blank\" href=https://colab.research.google.com/notebooks/data_table.ipynb>data table notebook</a>'\n",
              "          + ' to learn more about interactive tables.';\n",
              "        element.innerHTML = '';\n",
              "        dataTable['output_type'] = 'display_data';\n",
              "        await google.colab.output.renderOutput(dataTable, element);\n",
              "        const docLink = document.createElement('div');\n",
              "        docLink.innerHTML = docLinkHtml;\n",
              "        element.appendChild(docLink);\n",
              "      }\n",
              "    </script>\n",
              "  </div>\n",
              "\n",
              "\n",
              "<div id=\"df-75a34472-e25a-4b78-87a2-4183aab67cd2\">\n",
              "  <button class=\"colab-df-quickchart\" onclick=\"quickchart('df-75a34472-e25a-4b78-87a2-4183aab67cd2')\"\n",
              "            title=\"Suggest charts\"\n",
              "            style=\"display:none;\">\n",
              "\n",
              "<svg xmlns=\"http://www.w3.org/2000/svg\" height=\"24px\"viewBox=\"0 0 24 24\"\n",
              "     width=\"24px\">\n",
              "    <g>\n",
              "        <path d=\"M19 3H5c-1.1 0-2 .9-2 2v14c0 1.1.9 2 2 2h14c1.1 0 2-.9 2-2V5c0-1.1-.9-2-2-2zM9 17H7v-7h2v7zm4 0h-2V7h2v10zm4 0h-2v-4h2v4z\"/>\n",
              "    </g>\n",
              "</svg>\n",
              "  </button>\n",
              "\n",
              "<style>\n",
              "  .colab-df-quickchart {\n",
              "      --bg-color: #E8F0FE;\n",
              "      --fill-color: #1967D2;\n",
              "      --hover-bg-color: #E2EBFA;\n",
              "      --hover-fill-color: #174EA6;\n",
              "      --disabled-fill-color: #AAA;\n",
              "      --disabled-bg-color: #DDD;\n",
              "  }\n",
              "\n",
              "  [theme=dark] .colab-df-quickchart {\n",
              "      --bg-color: #3B4455;\n",
              "      --fill-color: #D2E3FC;\n",
              "      --hover-bg-color: #434B5C;\n",
              "      --hover-fill-color: #FFFFFF;\n",
              "      --disabled-bg-color: #3B4455;\n",
              "      --disabled-fill-color: #666;\n",
              "  }\n",
              "\n",
              "  .colab-df-quickchart {\n",
              "    background-color: var(--bg-color);\n",
              "    border: none;\n",
              "    border-radius: 50%;\n",
              "    cursor: pointer;\n",
              "    display: none;\n",
              "    fill: var(--fill-color);\n",
              "    height: 32px;\n",
              "    padding: 0;\n",
              "    width: 32px;\n",
              "  }\n",
              "\n",
              "  .colab-df-quickchart:hover {\n",
              "    background-color: var(--hover-bg-color);\n",
              "    box-shadow: 0 1px 2px rgba(60, 64, 67, 0.3), 0 1px 3px 1px rgba(60, 64, 67, 0.15);\n",
              "    fill: var(--button-hover-fill-color);\n",
              "  }\n",
              "\n",
              "  .colab-df-quickchart-complete:disabled,\n",
              "  .colab-df-quickchart-complete:disabled:hover {\n",
              "    background-color: var(--disabled-bg-color);\n",
              "    fill: var(--disabled-fill-color);\n",
              "    box-shadow: none;\n",
              "  }\n",
              "\n",
              "  .colab-df-spinner {\n",
              "    border: 2px solid var(--fill-color);\n",
              "    border-color: transparent;\n",
              "    border-bottom-color: var(--fill-color);\n",
              "    animation:\n",
              "      spin 1s steps(1) infinite;\n",
              "  }\n",
              "\n",
              "  @keyframes spin {\n",
              "    0% {\n",
              "      border-color: transparent;\n",
              "      border-bottom-color: var(--fill-color);\n",
              "      border-left-color: var(--fill-color);\n",
              "    }\n",
              "    20% {\n",
              "      border-color: transparent;\n",
              "      border-left-color: var(--fill-color);\n",
              "      border-top-color: var(--fill-color);\n",
              "    }\n",
              "    30% {\n",
              "      border-color: transparent;\n",
              "      border-left-color: var(--fill-color);\n",
              "      border-top-color: var(--fill-color);\n",
              "      border-right-color: var(--fill-color);\n",
              "    }\n",
              "    40% {\n",
              "      border-color: transparent;\n",
              "      border-right-color: var(--fill-color);\n",
              "      border-top-color: var(--fill-color);\n",
              "    }\n",
              "    60% {\n",
              "      border-color: transparent;\n",
              "      border-right-color: var(--fill-color);\n",
              "    }\n",
              "    80% {\n",
              "      border-color: transparent;\n",
              "      border-right-color: var(--fill-color);\n",
              "      border-bottom-color: var(--fill-color);\n",
              "    }\n",
              "    90% {\n",
              "      border-color: transparent;\n",
              "      border-bottom-color: var(--fill-color);\n",
              "    }\n",
              "  }\n",
              "</style>\n",
              "\n",
              "  <script>\n",
              "    async function quickchart(key) {\n",
              "      const quickchartButtonEl =\n",
              "        document.querySelector('#' + key + ' button');\n",
              "      quickchartButtonEl.disabled = true;  // To prevent multiple clicks.\n",
              "      quickchartButtonEl.classList.add('colab-df-spinner');\n",
              "      try {\n",
              "        const charts = await google.colab.kernel.invokeFunction(\n",
              "            'suggestCharts', [key], {});\n",
              "      } catch (error) {\n",
              "        console.error('Error during call to suggestCharts:', error);\n",
              "      }\n",
              "      quickchartButtonEl.classList.remove('colab-df-spinner');\n",
              "      quickchartButtonEl.classList.add('colab-df-quickchart-complete');\n",
              "    }\n",
              "    (() => {\n",
              "      let quickchartButtonEl =\n",
              "        document.querySelector('#df-75a34472-e25a-4b78-87a2-4183aab67cd2 button');\n",
              "      quickchartButtonEl.style.display =\n",
              "        google.colab.kernel.accessAllowed ? 'block' : 'none';\n",
              "    })();\n",
              "  </script>\n",
              "</div>\n",
              "\n",
              "    </div>\n",
              "  </div>\n"
            ],
            "application/vnd.google.colaboratory.intrinsic+json": {
              "type": "dataframe",
              "variable_name": "data_coffee"
            }
          },
          "metadata": {},
          "execution_count": 54
        }
      ],
      "source": [
        "# Create dataframe to explore coupons of Coffee house\n",
        "data_coffee=data[data['coupon']=='Coffee House']\n",
        "data_coffee.head()"
      ]
    },
    {
      "cell_type": "code",
      "source": [
        "g = sns.PairGrid(data_coffee)\n",
        "g.map_diag(sns.histplot)\n",
        "g.map_offdiag(sns.scatterplot)"
      ],
      "metadata": {
        "colab": {
          "base_uri": "https://localhost:8080/",
          "height": 1000
        },
        "id": "byccaGSxagU_",
        "outputId": "1ee087f8-687c-4a52-df49-509214679269"
      },
      "execution_count": 46,
      "outputs": [
        {
          "output_type": "execute_result",
          "data": {
            "text/plain": [
              "<seaborn.axisgrid.PairGrid at 0x7929da9ba020>"
            ]
          },
          "metadata": {},
          "execution_count": 46
        },
        {
          "output_type": "display_data",
          "data": {
            "text/plain": [
              "<Figure size 2750x2750 with 132 Axes>"
            ],
            "image/png": "[encoded data removed]"
          },
          "metadata": {}
        }
      ]
    },
    {
      "cell_type": "code",
      "execution_count": 55,
      "metadata": {
        "colab": {
          "base_uri": "https://localhost:8080/"
        },
        "outputId": "cb0583ee-8e49-4045-8a96-1667b10f0319",
        "id": "vr6HeWo2WJaZ"
      },
      "outputs": [
        {
          "output_type": "execute_result",
          "data": {
            "text/plain": [
              "0.4986212083228879"
            ]
          },
          "metadata": {},
          "execution_count": 55
        }
      ],
      "source": [
        "# Proportion of coffee house coupons that got accepted\n",
        "data_coffee[data_coffee['Y']==1].shape[0]/data_coffee.shape[0]\n",
        "# 49 % of coffee house coupons got accepted"
      ]
    },
    {
      "cell_type": "code",
      "execution_count": 56,
      "metadata": {
        "id": "fTC2WGE3_qRL",
        "colab": {
          "base_uri": "https://localhost:8080/"
        },
        "outputId": "a9676560-4372-47a0-8e16-958a7310f6b4"
      },
      "outputs": [
        {
          "output_type": "execute_result",
          "data": {
            "text/plain": [
              "0.3414389571321133"
            ]
          },
          "metadata": {},
          "execution_count": 56
        }
      ],
      "source": [
        "#  Identify acceptance rate of drivers who went to Coffee house few times vs others\n",
        "data_coffee_fewer=data_coffee[(data_coffee['CoffeeHouse'].isin(fewer_times)) & (data_coffee['Y']==1)]\n",
        "data_coffee_fewer.shape[0]/data_coffee.shape[0]"
      ]
    },
    {
      "cell_type": "code",
      "execution_count": 57,
      "metadata": {
        "id": "RrqUWn7d_qRL",
        "colab": {
          "base_uri": "https://localhost:8080/"
        },
        "outputId": "917db758-d803-4642-ffbb-7ede1d611505"
      },
      "outputs": [
        {
          "output_type": "execute_result",
          "data": {
            "text/plain": [
              "0.31737277513161194"
            ]
          },
          "metadata": {},
          "execution_count": 57
        }
      ],
      "source": [
        "#   acceptance rate of drivers who went to Coffee house more times vs others\n",
        "more_than_once_times=['4~8','gt8','1~3']\n",
        "\n",
        "data_coffee_more=data_coffee[data_coffee['CoffeeHouse'].isin(more_than_once_times) & data_coffee['Y']==1]\n",
        "data_coffee_more.shape[0]/data_coffee.shape[0]\n"
      ]
    },
    {
      "cell_type": "code",
      "execution_count": 58,
      "metadata": {
        "id": "_oykf8YP_qRL",
        "colab": {
          "base_uri": "https://localhost:8080/"
        },
        "outputId": "7331da1f-4070-4be7-d52b-0413d8926b68"
      },
      "outputs": [
        {
          "output_type": "execute_result",
          "data": {
            "text/plain": [
              "0.42821339061940566"
            ]
          },
          "metadata": {},
          "execution_count": 58
        }
      ],
      "source": [
        "#   acceptance rate of drivers who went to Coffee house more than once with no kid passengers and no married passengers vs others\n",
        "more_than_once_times=['4~8','gt8','1~3']\n",
        "\n",
        "data_coffee_morethanonce_nokids_window=data_coffee[data_coffee['CoffeeHouse'].isin(more_than_once_times) & ~(data_coffee['passanger']=='Kid(s)') & ~(data_coffee['maritalStatus']=='widowed') & (data_coffee['Y']==1)]\n",
        "other_drivers_morethanonce_nokids_window=data_coffee[~((data_coffee['CoffeeHouse'].isin(more_than_once_times) & ~(data_coffee['passanger']=='Kid(s)') & ~(data_coffee['maritalStatus']=='widowed')) & data_coffee['Y']==1)]\n",
        "\n",
        "acceptance_rate_drivers_no_kid_occupations_morethanoncebar=data_coffee_morethanonce_nokids_window.shape[0]/other_drivers_morethanonce_nokids_window.shape[0]\n",
        "acceptance_rate_drivers_no_kid_occupations_morethanoncebar\n"
      ]
    },
    {
      "cell_type": "code",
      "source": [
        "#   acceptance rate of drivers who went to Coffee house more than once with no kid passengers  is 1.5 times more than others\n",
        "#   acceptance rate of drivers who went to Coffee house more than once with no kid passengers and age <30 is 51% of others\n",
        "\n",
        "more_than_once_times=['4~8','gt8','1~3']\n",
        "\n",
        "drivers_morethanonce_nokids=data_coffee[data_coffee['CoffeeHouse'].isin(more_than_once_times) & ~(data_coffee['passanger']=='Kid(s)')  & (data_coffee['Y']==1)]\n",
        "other_drivers_morethanonce_nokids=data_coffee[~((data_coffee['CoffeeHouse'].isin(more_than_once_times) & ~(data_coffee['passanger']=='Kid(s)') )) & (data_coffee['Y']==1)]\n",
        "acceptance_rate_drivers_nokids_morethanonceCoffeehouse=drivers_morethanonce_nokids.shape[0]/other_drivers_morethanonce_nokids.shape[0]\n",
        "\n",
        "\n",
        "drivers_morethanonce_ageunder30=data_coffee[data_coffee['CoffeeHouse'].isin(more_than_once_times) & (data_coffee['age']<30) & (data_coffee['Y']==1)]\n",
        "other_drivers_morethanonce_ageunder30=data_coffee[~(data_coffee['CoffeeHouse'].isin(more_than_once_times) & (data_coffee['age']<30)) & (data_coffee['Y']==1)]\n",
        "acceptance_rate_drivers_ageunder30_morethanonce=drivers_morethanonce_ageunder30.shape[0]/other_drivers_morethanonce_ageunder30.shape[0]\n",
        "\n",
        "print('acceptance rate of drivers who went to Coffee house more than once with no kid passengers vs others',acceptance_rate_drivers_nokids_morethanonceCoffeehouse)\n",
        "print('acceptance rate of drivers who went to Coffee house more than once with no kid passengers and age <30 is ',acceptance_rate_drivers_ageunder30_morethanonce)"
      ],
      "metadata": {
        "colab": {
          "base_uri": "https://localhost:8080/"
        },
        "id": "OJd46Da4HqbG",
        "outputId": "d89f2801-a60a-42dc-9657-d04750b59c5f"
      },
      "execution_count": 66,
      "outputs": [
        {
          "output_type": "stream",
          "name": "stdout",
          "text": [
            "acceptance rate of drivers who went to Coffee house more than once with no kid passengers vs others 1.5081967213114753\n",
            "acceptance rate of drivers who went to Coffee house more than once with no kid passengers and age <30 is  0.518320610687023\n"
          ]
        }
      ]
    },
    {
      "cell_type": "code",
      "source": [
        "#   acceptance rate of drivers who went to Coffee house more than once with no kid passengers and no married passengers is 1.5 times more than others\n",
        "\n",
        "more_than_once_times=['4~8','gt8','1~3']\n",
        "other_occupations=['farming','fishing','forestry']\n",
        "\n",
        "drivers_no_kid_occupations_morethanonceCoffee=data_coffee[(data_coffee['CoffeeHouse'].isin(more_than_once_times)) & ~(data_coffee['occupation'].isin(other_occupations)) & ~(data_coffee['passanger']=='Kid(s)') & (data_coffee['Y']==1)]\n",
        "other_drivers_no_kid_occupations_morethanonceCoffee=data_coffee[~((data_coffee['CoffeeHouse'].isin(more_than_once_times)) & ~(data_coffee['occupation'].isin(other_occupations)) & ~(data_coffee['passanger']=='Kid(s)') )& (data_coffee['Y']==1)]\n",
        "acceptance_rate_drivers_no_kid_occupations_morethanonceCoffee=drivers_no_kid_occupations_morethanonceCoffee.shape[0]/other_drivers_no_kid_occupations_morethanonceCoffee.shape[0]\n",
        "acceptance_rate_drivers_no_kid_occupations_morethanonceCoffee"
      ],
      "metadata": {
        "colab": {
          "base_uri": "https://localhost:8080/"
        },
        "id": "fFWrMFZtNTwH",
        "outputId": "1347aa4b-6c53-4fc0-8eb4-dde86fe7dfcb"
      },
      "execution_count": 63,
      "outputs": [
        {
          "output_type": "execute_result",
          "data": {
            "text/plain": [
              "1.5081967213114753"
            ]
          },
          "metadata": {},
          "execution_count": 63
        }
      ]
    },
    {
      "cell_type": "code",
      "source": [
        "#   acceptance rate of drivers who went to Coffee house more than once with no kid passengers and on Sunny data is 1.13 times more than others\n",
        "\n",
        "drivers_morethanonce_nokids=data_coffee[data_coffee['CoffeeHouse'].isin(more_than_once_times) & (data_coffee['weather']=='Sunny') & ~(data_coffee['passanger']=='Kid(s)') & (data_coffee['Y']==1)]\n",
        "other_drivers_morethanonce_nokids=data_coffee[~((data_coffee['CoffeeHouse'].isin(more_than_once_times) & (data_coffee['weather']=='Sunny') & ~(data_coffee['passanger']=='Kid(s)') )) & (data_coffee['Y']==1)]\n",
        "acceptance_rate_drivers_nokids_morethanoncebar=drivers_morethanonce_nokids.shape[0]/other_drivers_morethanonce_nokids.shape[0]\n",
        "print(acceptance_rate_drivers_nokids_morethanoncebar)"
      ],
      "metadata": {
        "colab": {
          "base_uri": "https://localhost:8080/"
        },
        "id": "w7hFHIBGZQA5",
        "outputId": "4e3271bf-415c-4fd2-abfb-9185eb4c1736"
      },
      "execution_count": 62,
      "outputs": [
        {
          "output_type": "stream",
          "name": "stdout",
          "text": [
            "1.1364124597207304\n"
          ]
        }
      ]
    },
    {
      "cell_type": "code",
      "source": [
        "#   acceptance rate of drivers who went to Coffee house more than once with no kid passengers and on Rainy data is 3% of other drivers\n",
        "\n",
        "drivers_morethanonce_nokids=data_coffee[data_coffee['CoffeeHouse'].isin(more_than_once_times) & (data_coffee['weather']=='Rainy') & ~(data_coffee['passanger']=='Kid(s)') & (data_coffee['Y']==1)]\n",
        "other_drivers_morethanonce_nokids=data_coffee[~((data_coffee['CoffeeHouse'].isin(more_than_once_times) & (data_coffee['weather']=='Rainy') & ~(data_coffee['passanger']=='Kid(s)') )) & (data_coffee['Y']==1)]\n",
        "acceptance_rate_drivers_nokids_morethanoncebar=drivers_morethanonce_nokids.shape[0]/other_drivers_morethanonce_nokids.shape[0]\n",
        "print(acceptance_rate_drivers_nokids_morethanoncebar)"
      ],
      "metadata": {
        "colab": {
          "base_uri": "https://localhost:8080/"
        },
        "id": "catBiSqxZpZ3",
        "outputId": "f9d40fe2-8af6-4f8b-aa9a-7bc2ad7783e5"
      },
      "execution_count": 61,
      "outputs": [
        {
          "output_type": "stream",
          "name": "stdout",
          "text": [
            "0.030569948186528497\n"
          ]
        }
      ]
    },
    {
      "cell_type": "code",
      "source": [],
      "metadata": {
        "id": "J8YmfzICZnGs"
      },
      "execution_count": null,
      "outputs": []
    }
  ],
  "metadata": {
    "kernelspec": {
      "display_name": "Python 3 (ipykernel)",
      "language": "python",
      "name": "python3"
    },
    "language_info": {
      "codemirror_mode": {
        "name": "ipython",
        "version": 3
      },
      "file_extension": ".py",
      "mimetype": "text/x-python",
      "name": "python",
      "nbconvert_exporter": "python",
      "pygments_lexer": "ipython3",
      "version": "3.12.1"
    },
    "colab": {
      "provenance": []
    }
  },
  "nbformat": 4,
  "nbformat_minor": 0
}